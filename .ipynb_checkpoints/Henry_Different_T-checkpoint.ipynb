{
 "cells": [
  {
   "cell_type": "code",
   "execution_count": 23,
   "id": "99e219ab",
   "metadata": {},
   "outputs": [
    {
     "name": "stdout",
     "output_type": "stream",
     "text": [
      "[-12.59540005 -12.59539942 -12.5953988  -12.59539817 -12.59539755\n",
      " -12.59539692 -12.5953963  -12.59539567 -12.59539504 -12.59539442\n",
      " -12.59539379 -12.59539317 -12.59539254 -12.59539192 -12.59539129\n",
      " -12.59539066 -12.59539004 -12.59538941 -12.59538879 -12.59538816\n",
      " -12.59538754 -12.59538691 -12.59538628 -12.59538566 -12.59538503\n",
      " -12.59538441 -12.59538378 -12.59538316 -12.59538253 -12.5953819\n",
      " -12.59538128 -12.59538065 -12.59538003 -12.5953794  -12.59537878\n",
      " -12.59537815 -12.59537752 -12.5953769  -12.59537627 -12.59537565\n",
      " -12.59537502 -12.5953744  -12.59537377 -12.59537315 -12.59537252\n",
      " -12.59537189 -12.59537127 -12.59537064 -12.59537002 -12.59536939]\n"
     ]
    },
    {
     "data": {
      "image/png": "[encoded data removed]",
      "text/plain": [
       "<Figure size 432x288 with 1 Axes>"
      ]
     },
     "metadata": {
      "needs_background": "light"
     },
     "output_type": "display_data"
    }
   ],
   "source": [
    "import numpy as np\n",
    "import matplotlib.pyplot as plt\n",
    "\n",
    "alpha_Ne = 0.401\n",
    "beta_Ne = -43.36\n",
    "nu_ca = 13.30\n",
    "nu_s = -7.18\n",
    "lambda_sio2 = -770.13\n",
    "k_sio2 = -2.06e-6\n",
    "V_Ne = 26.5\n",
    "M_Ne = 60.09\n",
    "T_ref = 1300 #degree\n",
    "P_ref = 0.1  #MPa\n",
    "\n",
    "def lnk_Ne(T,P):\n",
    "    fun = nu_ca + nu_s + lambda_sio2*(1/T - 1/T_ref) + k_sio2*(P - P_ref)*10\n",
    "    result = alpha_Ne*(100 - 100/(M_Ne*107.67/240.36)*fun)+beta_Ne\n",
    "    return result\n",
    "\n",
    "print(lnk_Ne(1727,P_list))\n",
    "\n",
    "lnk_Ne_list = lnk_Ne(1727,P_list)\n",
    "\n",
    "P_list = np.linspace(0.001, 1)\n",
    "plt.loglog(P_list,-lnk_Ne(1727,P_list))\n",
    "#plt.xscale('log')\n",
    "\n",
    "plt.show()\n",
    "    "
   ]
  },
  {
   "cell_type": "code",
   "execution_count": 25,
   "id": "98fd1765",
   "metadata": {
    "scrolled": false
   },
   "outputs": [
    {
     "name": "stdout",
     "output_type": "stream",
     "text": [
      "[11.  11.2 11.4 11.6 11.8 12.  12.2 12.4 12.6 12.8 13.  13.2 13.4 13.6\n",
      " 13.8 14.  14.2 14.4 14.6 14.8 15.  15.2 15.4 15.6 15.8 16.  16.2 16.4\n",
      " 16.6 16.8 17.  17.2 17.4 17.6 17.8 18.  18.2 18.4 18.6 18.8]\n"
     ]
    },
    {
     "name": "stderr",
     "output_type": "stream",
     "text": [
      "C:\\Users\\wangc\\Anaconda3\\lib\\site-packages\\ipykernel_launcher.py:57: UserWarning: Log scale: values of z <= 0 have been masked\n",
      "C:\\Users\\wangc\\Anaconda3\\lib\\site-packages\\matplotlib\\contour.py:1435: UserWarning: Warning: converting a masked element to nan.\n",
      "  self.zmin = float(z.min())\n",
      "C:\\Users\\wangc\\Anaconda3\\lib\\site-packages\\ipykernel_launcher.py:70: UserWarning: No contour levels were found within the data range.\n"
     ]
    },
    {
     "ename": "NameError",
     "evalue": "name 'k_Ne' is not defined",
     "output_type": "error",
     "traceback": [
      "\u001b[1;31m---------------------------------------------------------------------------\u001b[0m",
      "\u001b[1;31mNameError\u001b[0m                                 Traceback (most recent call last)",
      "\u001b[1;32m<ipython-input-25-7c7138a55e44>\u001b[0m in \u001b[0;36m<module>\u001b[1;34m\u001b[0m\n\u001b[0;32m     96\u001b[0m \u001b[1;33m\u001b[0m\u001b[0m\n\u001b[0;32m     97\u001b[0m \u001b[1;32mfor\u001b[0m \u001b[0mi\u001b[0m \u001b[1;32min\u001b[0m \u001b[0mrange\u001b[0m\u001b[1;33m(\u001b[0m\u001b[0mlen\u001b[0m\u001b[1;33m(\u001b[0m\u001b[0mT_list\u001b[0m\u001b[1;33m)\u001b[0m\u001b[1;33m)\u001b[0m\u001b[1;33m:\u001b[0m\u001b[1;33m\u001b[0m\u001b[1;33m\u001b[0m\u001b[0m\n\u001b[1;32m---> 98\u001b[1;33m     \u001b[0mNe_Plot\u001b[0m\u001b[1;33m(\u001b[0m\u001b[0mP_list\u001b[0m\u001b[1;33m,\u001b[0m\u001b[0mT_list\u001b[0m\u001b[1;33m[\u001b[0m\u001b[0mi\u001b[0m\u001b[1;33m]\u001b[0m\u001b[1;33m)\u001b[0m\u001b[1;33m\u001b[0m\u001b[1;33m\u001b[0m\u001b[0m\n\u001b[0m",
      "\u001b[1;32m<ipython-input-25-7c7138a55e44>\u001b[0m in \u001b[0;36mNe_Plot\u001b[1;34m(P, T)\u001b[0m\n\u001b[0;32m     74\u001b[0m     \u001b[1;31m#Ne_pre =Ne_total/M_co*k_Ne_1500/x_Ne/5.972e27*1e-5\u001b[0m\u001b[1;33m\u001b[0m\u001b[1;33m\u001b[0m\u001b[1;33m\u001b[0m\u001b[0m\n\u001b[0;32m     75\u001b[0m     \u001b[0mNe_ATM\u001b[0m \u001b[1;33m=\u001b[0m \u001b[0mNe_con\u001b[0m\u001b[1;33m*\u001b[0m\u001b[0mM_Ne\u001b[0m\u001b[1;33m*\u001b[0m\u001b[1;36m5.972e+27\u001b[0m \u001b[1;31m#g\u001b[0m\u001b[1;33m\u001b[0m\u001b[1;33m\u001b[0m\u001b[0m\n\u001b[1;32m---> 76\u001b[1;33m     \u001b[0mEarth_Pres\u001b[0m \u001b[1;33m=\u001b[0m \u001b[0mNe_ATM\u001b[0m\u001b[1;33m*\u001b[0m\u001b[0mnp\u001b[0m\u001b[1;33m.\u001b[0m\u001b[0mexp\u001b[0m\u001b[1;33m(\u001b[0m\u001b[0mk_Ne\u001b[0m\u001b[1;33m)\u001b[0m\u001b[1;33m/\u001b[0m\u001b[0mx_Ne\u001b[0m\u001b[1;33m/\u001b[0m\u001b[1;36m5.972e27\u001b[0m\u001b[1;33m*\u001b[0m\u001b[1;36m10\u001b[0m\u001b[1;33m\u001b[0m\u001b[1;33m\u001b[0m\u001b[0m\n\u001b[0m\u001b[0;32m     77\u001b[0m     \u001b[0mprint\u001b[0m\u001b[1;33m(\u001b[0m\u001b[1;34mf'{Ne_ATM:.3e}'\u001b[0m\u001b[1;33m)\u001b[0m\u001b[1;33m\u001b[0m\u001b[1;33m\u001b[0m\u001b[0m\n\u001b[0;32m     78\u001b[0m     \u001b[0mprint\u001b[0m\u001b[1;33m(\u001b[0m\u001b[1;34mf'{Earth_Pres:.3e}'\u001b[0m\u001b[1;33m)\u001b[0m\u001b[1;33m\u001b[0m\u001b[1;33m\u001b[0m\u001b[0m\n",
      "\u001b[1;31mNameError\u001b[0m: name 'k_Ne' is not defined"
     ]
    },
    {
     "data": {
      "image/png": "[encoded data removed]",
      "text/plain": [
       "<Figure size 800x640 with 1 Axes>"
      ]
     },
     "metadata": {
      "needs_background": "light"
     },
     "output_type": "display_data"
    }
   ],
   "source": [
    "import numpy as np\n",
    "import matplotlib.pyplot as plt\n",
    "import matplotlib\n",
    "from matplotlib import ticker, cm, colors\n",
    "\n",
    "M_Earth = 5.972e+27\n",
    "\n",
    "SMALL_SIZE = 13\n",
    "matplotlib.rc('font',size = SMALL_SIZE, family = 'Arial')\n",
    "matplotlib.rc('axes',titlesize = SMALL_SIZE)\n",
    "\n",
    "hfont = {'fontname':'Helvetica'}\n",
    "\n",
    "\n",
    "#actual Ne_reservoir: 64.5e15, we want to see the core_mass and pressure to dissolve other amount of Ne. \n",
    "\n",
    "#from Iacono-Marziano paper #the henry constant\n",
    "x_Ne = 2.1e-5 #from Olsen paper #molar ratio\n",
    "\n",
    "N = 500\n",
    "P_new = np.logspace(-4, 1, N)\n",
    "P_Mpa_new = P_new/10\n",
    "M_co = np.logspace(-1, 0.3, N)*0.7\n",
    "\n",
    "\n",
    "M_Ne = 20.1797\n",
    "\n",
    "\n",
    "#total_mole = np.asarray(Ne_reserve)/M_Ne/x_Ne #mol\n",
    "#total_mole_mass = x_H2*total_mole*M_H2 + x_He*total_mole*M_He + x_Ne*total_mole*M_Ne\n",
    "\n",
    "def Ne_Plot(T):\n",
    "\n",
    "\n",
    "    def Ne_res(M_core, P):\n",
    "        #Ne_con = 3.42e-14\n",
    "        S_Ne = lnk_Ne(T,P)\n",
    "        return M_core*P/S_Ne*x_Ne*5.972e+24*1000 #g\n",
    "\n",
    "\n",
    "    X, Y = np.meshgrid(M_co, P_Mpa_new)\n",
    "    Z =Ne_res(X, Y)\n",
    "\n",
    "    X_2, Y_2 = np.meshgrid(M_co, P_new)\n",
    "\n",
    "\n",
    "    S_Ne = lnk_Ne(T,P)\n",
    "\n",
    "\n",
    "    fig, ax = plt.subplots(figsize = (10, 8), dpi = 80)\n",
    "    origin = 'lower'\n",
    "\n",
    "    #lev_exp = np.arange(np.floor(np.log10(Z.min())-1), np.ceil(np.log10(Z.max())+1))\n",
    "    lev_exp = np.arange(11, 19, 0.2)\n",
    "    levs = np.power(10, lev_exp)\n",
    "    print(lev_exp)\n",
    "    cs = ax.contourf(Y_2, X, Z, levs, norm=colors.LogNorm())\n",
    "    #cs = ax.contourf(X, Y, Z, locator=ticker.LogLocator(), cmap=cm.PuBu_r)\n",
    "    ax.set_xlabel('Surface Pressure (Bar)')\n",
    "    ax.set_ylabel('Mantle Mass (M_Earth)')\n",
    "    ax.set_yscale('log')\n",
    "    ax.set_xscale('log')\n",
    "\n",
    "    ee = np.arange(11, 19, 1)\n",
    "    levss = np.power(10., ee)\n",
    "\n",
    "    CS4 = ax.contour(Y_2, X, Z, levss,\n",
    "                      colors=('red',),\n",
    "                      linewidths=(1,),\n",
    "                      origin=origin)\n",
    "\n",
    "    Ne_con = 3.42e-14\n",
    "    Ne_total = 2.735*10**(15) #g #Ne_con*M_co*M_Ne*5.972e+27\n",
    "    #Ne_pre =Ne_total/M_co*k_Ne_1500/x_Ne/5.972e27*1e-5\n",
    "    Ne_ATM = Ne_con*M_Ne*5.972e+27 #g\n",
    "    Earth_Pres = Ne_ATM*np.exp(k_Ne)/x_Ne/5.972e27*10\n",
    "    print(f'{Ne_ATM:.3e}')\n",
    "    print(f'{Earth_Pres:.3e}')\n",
    "\n",
    "    plt.plot(Earth_Pres, 0.7, marker=\"o\", markersize=10, markeredgecolor=\"red\", markerfacecolor=\"aqua\")\n",
    "\n",
    "    #manual_locations = [(-1, -1.4), (-0.62, -0.7), (-2, 0.5), (1.7, 1.2), (2.0, 1.4), (2.4, 1.7)]\n",
    "\n",
    "    ax.set_title(f'Dissolvable Neon in Deplete Mantle at T = {T}K')\n",
    "    ax.clabel(CS4, fmt='%2.1e', colors='black', fontsize=12)\n",
    "\n",
    "\n",
    "\n",
    "    cbar = fig.colorbar(cs)\n",
    "    cbar.ax.get_yaxis().labelpad = 25\n",
    "    cbar.ax.set_ylabel('Dissolvable Ne (g)', rotation=270)\n",
    "    plt.savefig(f\"Contour_Core_mass for Reservoir at T = {T}K\",dpi=300, bbox_inches='tight')\n",
    "    plt.show()\n",
    "\n",
    "T_list = [1726.85, 2226.85, 2726.85, 3226.85]\n",
    "\n",
    "for i in range(len(T_list)):\n",
    "    Ne_Plot(T_list[i])"
   ]
  },
  {
   "cell_type": "code",
   "execution_count": null,
   "id": "4b4b2d5e",
   "metadata": {},
   "outputs": [],
   "source": []
  }
 ],
 "metadata": {
  "kernelspec": {
   "display_name": "Python 3",
   "language": "python",
   "name": "python3"
  },
  "language_info": {
   "codemirror_mode": {
    "name": "ipython",
    "version": 3
   },
   "file_extension": ".py",
   "mimetype": "text/x-python",
   "name": "python",
   "nbconvert_exporter": "python",
   "pygments_lexer": "ipython3",
   "version": "3.7.11"
  }
 },
 "nbformat": 4,
 "nbformat_minor": 5
}
